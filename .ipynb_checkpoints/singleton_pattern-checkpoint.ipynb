{
 "cells": [
  {
   "cell_type": "markdown",
   "metadata": {},
   "source": [
    "# Singleton Pattern"
   ]
  },
  {
   "cell_type": "markdown",
   "metadata": {},
   "source": [
    "Its a type of Creational Design Pattern i.e. it is concerned with the creation of object. Singleton patterns means that there can be only one object of a type and provides a global point of access. \n",
    "\n",
    "It ensures that:\n",
    "\n",
    "1. There is one and only one type of object of the class gets created\n",
    "2. Provides an access point for the object that is global to the program\n",
    "3. Controlling concurrent access to resources that are shared"
   ]
  },
  {
   "cell_type": "code",
   "execution_count": 6,
   "metadata": {
    "collapsed": false
   },
   "outputs": [
    {
     "name": "stdout",
     "output_type": "stream",
     "text": [
      "('Object created', <__main__.Singleton object at 0x10a7cc310>)\n",
      "('Object2 created', <__main__.Singleton object at 0x10a7cc310>)\n"
     ]
    }
   ],
   "source": [
    "class Singleton(object):\n",
    "    def __new__(cls):\n",
    "        if not hasattr(cls, 'instance'):\n",
    "            cls.instance = super(Singleton, cls).__new__(cls)\n",
    "        return cls.instance\n",
    "    \n",
    "s = Singleton()\n",
    "print (\"Object created\", s)\n",
    "\n",
    "s1 = Singleton()\n",
    "print (\"Object2 created\", s1)"
   ]
  },
  {
   "cell_type": "markdown",
   "metadata": {},
   "source": [
    "`hasattr` method checks if the class object an `instance` property or not.  "
   ]
  },
  {
   "cell_type": "markdown",
   "metadata": {},
   "source": [
    "### Lazy instantiation in Singleton Pattern"
   ]
  },
  {
   "cell_type": "markdown",
   "metadata": {
    "collapsed": true
   },
   "source": [
    "In lazy instantiation an object is created only when it is needed. "
   ]
  },
  {
   "cell_type": "code",
   "execution_count": 10,
   "metadata": {
    "collapsed": false
   },
   "outputs": [
    {
     "name": "stdout",
     "output_type": "stream",
     "text": [
      "__init__ method called.. \n",
      "__init__ method called.. \n",
      "('Object created', <__main__.Singleton object at 0x10a7ccf10>)\n",
      "('Instance already exists.', <__main__.Singleton object at 0x10a7ccf10>)\n"
     ]
    }
   ],
   "source": [
    "class Singleton(object):\n",
    "    _instance = None\n",
    "    def __init__(self):\n",
    "        if not Singleton._instance:\n",
    "            print (\"__init__ method called.. \")\n",
    "        else:\n",
    "            print (\"Instance already exists.\", self.getInstance())\n",
    "            \n",
    "    @classmethod\n",
    "    def getInstance(cls):\n",
    "        if not cls._instance:\n",
    "            cls._instance = Singleton()\n",
    "            \n",
    "        return cls._instance\n",
    "    \n",
    "s = Singleton() # Class initialized but object not created\n",
    "print (\"Object created\", Singleton.getInstance()) # Object gets created\n",
    "s1 = Singleton() # object already exists"
   ]
  },
  {
   "cell_type": "markdown",
   "metadata": {
    "collapsed": true
   },
   "source": [
    "### Monostate Singleton Pattern"
   ]
  },
  {
   "cell_type": "markdown",
   "metadata": {
    "collapsed": true
   },
   "source": [
    "Typically by single instances, we want different instances to have same states. In that case, we should be bothered by \n",
    "the state rather than the identity. When multiple objects share the same state, it is called Monostate pattern.\n",
    "\n",
    "In Python, we store state using __dict__. Two objects a and a1 if they have the same a.__dict__ and a1.__dict__. "
   ]
  },
  {
   "cell_type": "code",
   "execution_count": 26,
   "metadata": {
    "collapsed": false
   },
   "outputs": [
    {
     "name": "stdout",
     "output_type": "stream",
     "text": [
      "('Object created b', <__main__.Borg instance at 0x10a7d5758>)\n",
      "('Object created b1', <__main__.Borg instance at 0x10a7d5a70>)\n",
      "('Object state b', {'1': '2', 'x': 4})\n",
      "('Object state b1', {'1': '2', 'x': 4})\n"
     ]
    }
   ],
   "source": [
    "class Borg:\n",
    "    __shared_state = {\"1\": \"2\"}\n",
    "    \n",
    "    def __init__(self):\n",
    "        self.x = 1\n",
    "        self.__dict__ = self.__shared_state\n",
    "        pass\n",
    "    \n",
    "b = Borg()\n",
    "b1 = Borg()\n",
    "b.x = 4\n",
    "\n",
    "print (\"Object created b\", b) # b and b1 are distinct objects\n",
    "print (\"Object created b1\", b1)\n",
    "print (\"Object state b\", b.__dict__) # Printing the state of b\n",
    "print (\"Object state b1\", b1.__dict__) # Both b and b1 will have same states"
   ]
  },
  {
   "cell_type": "markdown",
   "metadata": {
    "collapsed": true
   },
   "source": [
    "We can implement the same thing by tweaking the __new__ method."
   ]
  },
  {
   "cell_type": "code",
   "execution_count": 27,
   "metadata": {
    "collapsed": false
   },
   "outputs": [
    {
     "name": "stdout",
     "output_type": "stream",
     "text": [
      "('Object created b', <__main__.Borg object at 0x10a7cc190>)\n",
      "('Object created b1', <__main__.Borg object at 0x10a7cccd0>)\n",
      "('Object state b', {'x': 4})\n",
      "('Object state b1', {'x': 4})\n"
     ]
    }
   ],
   "source": [
    "class Borg(object):\n",
    "    _shared_state = {}\n",
    "    def __new__(cls, *args, **kwargs):\n",
    "        obj = super(Borg, cls).__new__(cls, *args, **kwargs)\n",
    "        obj.__dict__ = cls._shared_state\n",
    "        return obj\n",
    "    \n",
    "b = Borg()\n",
    "b1 = Borg()\n",
    "b.x = 4\n",
    "\n",
    "print (\"Object created b\", b) # b and b1 are distinct objects\n",
    "print (\"Object created b1\", b1)\n",
    "print (\"Object state b\", b.__dict__) # Printing the state of b\n",
    "print (\"Object state b1\", b1.__dict__) # Both b and b1 will have same states"
   ]
  },
  {
   "cell_type": "markdown",
   "metadata": {
    "collapsed": true
   },
   "source": [
    "### Singletons and Metaclasses"
   ]
  },
  {
   "cell_type": "markdown",
   "metadata": {
    "collapsed": true
   },
   "source": [
    "A Metaclass is a class of a class i.e. class is an instance of metaclass. By using metabclasses we can create our own\n",
    "classes using predefined classes. The definition of a class is defined by its metaclass, so when we create a class with\n",
    "class A, Python creates it by A = type(name, bases, dict):\n",
    "    * name - This is the name of the class\n",
    "    * bases = Base classes\n",
    "    * dict - Attribute variable"
   ]
  },
  {
   "cell_type": "code",
   "execution_count": 17,
   "metadata": {
    "collapsed": false
   },
   "outputs": [
    {
     "name": "stdout",
     "output_type": "stream",
     "text": [
      "('** My int***', (3, 4))\n",
      "Do whatever you want with these objects\n"
     ]
    }
   ],
   "source": [
    "class MyInt(type):\n",
    "    def __call__(cls, *args, **kwargs):\n",
    "        print (\"** My int***\", args)\n",
    "        print (\"Do whatever you want with these objects\")\n",
    "        return type.__call__(cls, args, kwargs)\n",
    "    \n",
    "class int(object):\n",
    "    __metaclass__=MyInt\n",
    "    def __init__(self, x, y):\n",
    "        self.x = x\n",
    "        self.y = y\n",
    "        \n",
    "i = int(3, 4)"
   ]
  },
  {
   "cell_type": "markdown",
   "metadata": {
    "collapsed": true
   },
   "source": [
    "One more example to explain how metaclasses can be used to implement Singleton."
   ]
  },
  {
   "cell_type": "code",
   "execution_count": 22,
   "metadata": {
    "collapsed": false
   },
   "outputs": [
    {
     "name": "stdout",
     "output_type": "stream",
     "text": [
      "(<__main__.Logger object at 0x10a7cc910>, <__main__.Logger object at 0x10a7cc910>)\n"
     ]
    }
   ],
   "source": [
    "class MetaSingleton(type):\n",
    "    _instances = {}\n",
    "    def __call__(cls, *args, **kwargs):\n",
    "        if cls not in cls._instances:\n",
    "            cls._instances[cls] = super(MetaSingleton, cls).__call__(*args, **kwargs)\n",
    "        return cls._instances[cls]\n",
    "    \n",
    "class Logger(object):\n",
    "    __metaclass__ = MetaSingleton\n",
    "    pass\n",
    "    \n",
    "logger1 = Logger()\n",
    "logger2 = Logger()\n",
    "print (logger1, logger2)"
   ]
  },
  {
   "cell_type": "markdown",
   "metadata": {},
   "source": [
    "### Drawbacks of the Singleton pattern\n",
    "\n",
    "    * Global variables can be changed by mistake at one place which other might not be aware of, and these changes get \n",
    "    used up in the application.\n",
    "    * Multiple references gets created to the same obejct. There might be multiple references to the same obejct.\n",
    "    * All classes that are dependent on global variables get tightly coupled as a change to the global data by one class can inadvertently impact the other class. "
   ]
  }
 ],
 "metadata": {
  "kernelspec": {
   "display_name": "Python 2",
   "language": "python",
   "name": "python2"
  },
  "language_info": {
   "codemirror_mode": {
    "name": "ipython",
    "version": 2
   },
   "file_extension": ".py",
   "mimetype": "text/x-python",
   "name": "python",
   "nbconvert_exporter": "python",
   "pygments_lexer": "ipython2",
   "version": "2.7.13"
  }
 },
 "nbformat": 4,
 "nbformat_minor": 2
}
