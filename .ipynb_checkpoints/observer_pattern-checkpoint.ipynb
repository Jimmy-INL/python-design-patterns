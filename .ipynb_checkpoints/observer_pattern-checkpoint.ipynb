{
 "cells": [
  {
   "cell_type": "markdown",
   "metadata": {},
   "source": [
    "# Observer Pattern\n",
    "\n",
    "Observer pattern is a type of Behavioral pattern which means it is concerned with how the objects interact with \n",
    "each other. In observer design pattern, an object(Subject) maintains a list of dependents(Observers) so that the \n",
    "subject can notify all the Observers about teh changes that it undergoes using any of the methods defined by the \n",
    "Observer.\n",
    "\n",
    "The main intentions of the Observer pattern as follows:\n",
    "* It defines a one-to-many dependency between objects so that any change in one object will be notified to the \n",
    "other dependent objects automatically\n",
    "* It encapsulates the core component of the Subject"
   ]
  },
  {
   "cell_type": "code",
   "execution_count": 10,
   "metadata": {
    "collapsed": false
   },
   "outputs": [
    {
     "name": "stdout",
     "output_type": "stream",
     "text": [
      "(<__main__.Observer1 instance at 0x1093db758>, ':: Got', ('notification',), 'From', <__main__.Subject instance at 0x1093db7a0>)\n",
      "(<__main__.Observer2 instance at 0x1093db5f0>, ':: Got', ('notification',), 'From', <__main__.Subject instance at 0x1093db7a0>)\n"
     ]
    }
   ],
   "source": [
    "class Subject:\n",
    "    def __init__(self):\n",
    "        self.__observers = []\n",
    "        \n",
    "    def register(self, observer):\n",
    "        self.__observers.append(observer)\n",
    "\n",
    "    def notify_all(self, *args, **kwargs):\n",
    "        for observer in self.__observers:\n",
    "            observer.notify(self, *args, **kwargs)\n",
    "            \n",
    "class Observer1:\n",
    "    def __init__(self, subject):\n",
    "        subject.register(self)\n",
    "    \n",
    "    def notify(self, subject, *args):\n",
    "        print(self,':: Got', args, 'From', subject)\n",
    "        \n",
    "class Observer2:\n",
    "    def __init__(self, subject):\n",
    "        subject.register(self)\n",
    "    \n",
    "    def notify(self, subject, *args):\n",
    "        print(self, ':: Got', args, 'From', subject)\n",
    "        \n",
    "subject = Subject()\n",
    "observer1 = Observer1(subject)\n",
    "observer2 = Observer2(subject)\n",
    "\n",
    "subject.notify_all('notification')"
   ]
  },
  {
   "cell_type": "markdown",
   "metadata": {
    "collapsed": true
   },
   "source": [
    "### The observer pattern in te real world.\n",
    "\n",
    "The News agencies typically gather news from various locations and publish them to the subscribers.With information \n",
    "being sent/received in real time, a news agency should be able to publish the news as soon as possible to its \n",
    "subscribers. "
   ]
  },
  {
   "cell_type": "code",
   "execution_count": 17,
   "metadata": {
    "collapsed": false
   },
   "outputs": [
    {
     "name": "stdout",
     "output_type": "stream",
     "text": [
      "('\\nSubscribers:', ['instance', 'instance', 'instance'])\n",
      "(<__main__.SMSSubscriber instance at 0x109454ea8>, ('Got news:', 'Hello World!'))\n",
      "(<__main__.EmailSubscriber instance at 0x109454ef0>, ('Got news:', 'Hello World!'))\n",
      "(<__main__.AnyOtherSubscriber instance at 0x109454cf8>, ('Got news:', 'Hello World!'))\n",
      "('\\nDetached:', 'instance')\n",
      "('\\nSubscribers:', ['instance', 'instance'])\n",
      "(<__main__.SMSSubscriber instance at 0x109454ea8>, ('Got news:', 'My second news!'))\n",
      "(<__main__.EmailSubscriber instance at 0x109454ef0>, ('Got news:', 'My second news!'))\n"
     ]
    }
   ],
   "source": [
    "class NewsPublisher:\n",
    "    ''' NewsPublisher will act as Subject class that notifies observers of the latest news '''\n",
    "    def __init__(self):\n",
    "        self.__subscribers = []\n",
    "        self.__latest_news = None\n",
    "        \n",
    "    def attach(self, subscriber):\n",
    "        self.__subscribers.append(subscriber)\n",
    "        \n",
    "    def detach(self):\n",
    "        return self.__subscribers.pop()\n",
    "    \n",
    "    def subscribers(self):\n",
    "        return [type(x).__name__ for x in self.__subscribers]\n",
    "    \n",
    "    def notify_subscribers(self):\n",
    "        for sub in self.__subscribers:\n",
    "            sub.update()\n",
    "            \n",
    "    def add_news(self, news):\n",
    "        self.__latest_news = news\n",
    "        \n",
    "    def get_news(self):\n",
    "        return \"Got news:\", self.__latest_news\n",
    "    \n",
    "from abc import ABCMeta, abstractmethod\n",
    "\n",
    "class Subscriber(object):\n",
    "    \n",
    "    __metaclass__=ABCMeta\n",
    "    \n",
    "    @abstractmethod\n",
    "    def update(self):\n",
    "        pass\n",
    "\n",
    "class SMSSubscriber:\n",
    "    ''' Observer which is subscribed via sms'''\n",
    "    def __init__(self, publisher):\n",
    "        self.publisher = publisher\n",
    "        self.publisher.attach(self)\n",
    "        \n",
    "    def update(self):\n",
    "        print(self, self.publisher.get_news())\n",
    "        \n",
    "class EmailSubscriber:\n",
    "    ''' Observer which is subscribed via email'''\n",
    "    def __init__(self, publisher):\n",
    "        self.publisher = publisher\n",
    "        self.publisher.attach(self)\n",
    "    \n",
    "    def update(self):\n",
    "        print(self, self.publisher.get_news())\n",
    "\n",
    "class AnyOtherSubscriber:\n",
    "    ''' Observer which is subscribed via any other method'''\n",
    "    def __init__(self, publisher):\n",
    "        self.publisher = publisher\n",
    "        self.publisher.attach(self)\n",
    "    \n",
    "    def update(self):\n",
    "        print(self, self.publisher.get_news())\n",
    "        \n",
    "if __name__ == '__main__':\n",
    "    news_publisher = NewsPublisher()\n",
    "    \n",
    "    for Subscribers in [SMSSubscriber, EmailSubscriber, AnyOtherSubscriber]:\n",
    "        Subscribers(news_publisher)\n",
    "    \n",
    "    print(\"\\nSubscribers:\", news_publisher.subscribers())\n",
    "    \n",
    "    news_publisher.add_news('Hello World!')\n",
    "    news_publisher.notify_subscribers()\n",
    "    \n",
    "    print(\"\\nDetached:\", type(news_publisher.detach()).__name__)\n",
    "    print(\"\\nSubscribers:\", news_publisher.subscribers())\n",
    "    \n",
    "    news_publisher.add_news('My second news!')\n",
    "    news_publisher.notify_subscribers()\n"
   ]
  },
  {
   "cell_type": "markdown",
   "metadata": {
    "collapsed": true
   },
   "source": [
    "Advantages of using Observer patter:\n",
    "    1. Supports the principle of loose coupling between objects that interact with each other. \n",
    "    2. Allows sending data to other objects effectively with any change in the Subject and Observer classes.\n",
    "    3. Observer can be added/removed at any point in time. \n",
    "    \n",
    "Disadvantages:\n",
    "    1. Observer interface has to be implemented which involves inheritance. There is no scope of composition. \n",
    "    2. If not correctly implemented, it can add complexity and have performance issues. \n",
    "    3. Notifications can at time be undependable and result in race conditions or inconsistency. "
   ]
  }
 ],
 "metadata": {
  "kernelspec": {
   "display_name": "Python 2",
   "language": "python",
   "name": "python2"
  },
  "language_info": {
   "codemirror_mode": {
    "name": "ipython",
    "version": 2
   },
   "file_extension": ".py",
   "mimetype": "text/x-python",
   "name": "python",
   "nbconvert_exporter": "python",
   "pygments_lexer": "ipython2",
   "version": "2.7.13"
  }
 },
 "nbformat": 4,
 "nbformat_minor": 2
}
