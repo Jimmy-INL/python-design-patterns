{
 "cells": [
  {
   "cell_type": "markdown",
   "metadata": {
    "collapsed": true
   },
   "source": [
    "# Command Pattern"
   ]
  },
  {
   "cell_type": "markdown",
   "metadata": {},
   "source": [
    "Command design pattern is also a behavioral pattern which means it is concerned with how objects interact \n",
    "with each other. In command pattern an object is used to encapsulate all the informaton needed to perform an action or\n",
    "trigger an event at a later time. \n",
    "\n",
    "Command pattern contains the following terms:\n",
    "    * A Command object knows about the Receiver objects and invokes a method of the Receiver object.\n",
    "    * Values for parameters of the receiver method are stored in the Command object\n",
    "    * The invoker knows how to execute a command\n",
    "    * The client creates a Command object and sets its receiver"
   ]
  },
  {
   "cell_type": "code",
   "execution_count": 1,
   "metadata": {
    "collapsed": false
   },
   "outputs": [
    {
     "name": "stdout",
     "output_type": "stream",
     "text": [
      "('copying binaries --', 'python3.5.gzip', ' to ', '/usr/bin/')\n",
      "No operation\n"
     ]
    }
   ],
   "source": [
    "class Wizard():\n",
    "    '''Implements the installation system which involves copying or moving of files based on the choices made by user \n",
    "    '''\n",
    "    def __init__(self, src, rootdir):\n",
    "        self.choices = []\n",
    "        self.rootdir = rootdir\n",
    "        self.src = src\n",
    "        \n",
    "    def preferences(self, command):\n",
    "        self.choices.append(command)\n",
    "        \n",
    "    def execute(self):\n",
    "        for choice in self.choices:\n",
    "            if list(choice.values())[0]:\n",
    "                print(\"copying binaries --\", self.src, \" to \", self.rootdir)\n",
    "            else:\n",
    "                print(\"No operation\")\n",
    "                \n",
    "if __name__ == \"__main__\":\n",
    "    wizard = Wizard('python3.5.gzip', '/usr/bin/')\n",
    "    wizard.preferences({'python': True})\n",
    "    wizard.preferences({'java': False})\n",
    "    wizard.execute()"
   ]
  },
  {
   "cell_type": "markdown",
   "metadata": {},
   "source": [
    "Command pattern involves five main participants:\n",
    "\n",
    "   * `Command`: This declares an interface to execute an operation\n",
    "   * `ConcreteCommand`: This defines a binding between the Receiver object and action\n",
    "   * `Client`: This creates a ConcreteCommand object and sets its receiver\n",
    "   * `Invoker`: This asks ConcreteCommand to carry out the request\n",
    "   * `Receiver`: This knows how to perform the operations associated with carrying out the request"
   ]
  },
  {
   "cell_type": "code",
   "execution_count": 3,
   "metadata": {
    "collapsed": false
   },
   "outputs": [
    {
     "name": "stdout",
     "output_type": "stream",
     "text": [
      "Receiver Action\n"
     ]
    }
   ],
   "source": [
    "from abc import ABCMeta, abstractmethod\n",
    "\n",
    "class Command(object):\n",
    "    ''' Interface to execute an operation '''\n",
    "    __metaclass__ = ABCMeta\n",
    "    \n",
    "    def __init__(self, recv):\n",
    "        self.recv = recv\n",
    "        \n",
    "    def execute(self):\n",
    "        pass\n",
    "    \n",
    "class ConcreteCommand(Command):\n",
    "    ''' Provides a binding between receiver object and action'''\n",
    "    def __init__(self, recv):\n",
    "        self.recv = recv\n",
    "        \n",
    "    def execute(self):\n",
    "        self.recv.action()\n",
    "\n",
    "class Receiver:\n",
    "    def action(self):\n",
    "        print(\"Receiver Action\")\n",
    "        \n",
    "class Invoker:\n",
    "    ''' Ask concrete command to carry out a request'''\n",
    "    def command(self, cmd):\n",
    "        self.cmd = cmd\n",
    "    \n",
    "    def execute(self):\n",
    "        self.cmd.execute()\n",
    "        \n",
    "if __name__ == \"__main__\":\n",
    "    recv = Receiver()\n",
    "    # A Command object knows about the Receiver objects and invokes a method of the Receiver object.\n",
    "    # Values for parameters of the receiver method are stored in the Command object\n",
    "    cmd = ConcreteCommand(recv) \n",
    "    invoker = Invoker()\n",
    "    # The invoker knows how to execute a command\n",
    "    invoker.command(cmd)\n",
    "    invoker.execute()\n"
   ]
  },
  {
   "cell_type": "code",
   "execution_count": 6,
   "metadata": {
    "collapsed": false
   },
   "outputs": [
    {
     "name": "stdout",
     "output_type": "stream",
     "text": [
      "You will buy stocks\n",
      "You will sell stocks\n"
     ]
    }
   ],
   "source": [
    "'''\n",
    "    Implementing command pattern for a stock exchange. You, as a user of the stock exchange, create orders to buy or\n",
    "sell stocks. You don't buy or sell them; it's the agent or broker who plays the intermediary between you and the stock\n",
    "exchange. The agent is responsible for taking your request to the stock exchange and getting the work done.\n",
    "'''\n",
    "\n",
    "from abc import ABCMeta, abstractmethod\n",
    "\n",
    "class Order(object):\n",
    "    ''' Represents command interface'''\n",
    "    __metaclass__ = ABCMeta\n",
    "    \n",
    "    @abstractmethod\n",
    "    def execute(self):\n",
    "        pass\n",
    "    \n",
    "class BuyStockOrder(Order):\n",
    "    '''Represents ConcreteCommand class which executes an operation'''\n",
    "    def __init__(self, stock):\n",
    "        self.stock = stock\n",
    "        \n",
    "    def execute(self):\n",
    "        self.stock.buy()\n",
    "        \n",
    "class SellStockOrder(Order):\n",
    "    '''Represents ConcreteCommand class which executes an operation'''\n",
    "    def __init__(self, stock):\n",
    "        self.stock = stock\n",
    "        \n",
    "    def execute(self):\n",
    "        self.stock.sell()\n",
    "        \n",
    "class StockTrade:\n",
    "    '''\n",
    "        Represents the Receiver object. It defines multiple methods (actions) to execute the orders placed by\n",
    "        ConcreteCommand objects\n",
    "    '''\n",
    "    def buy(self):\n",
    "        print(\"You will buy stocks\")\n",
    "   \n",
    "    def sell(self):\n",
    "        print(\"You will sell stocks\")\n",
    "        \n",
    "class Agent:\n",
    "    '''\n",
    "        Represents an invoker. Agent is the intermediary between the client and StockExchange and executes the \n",
    "        orders placed by the client.\n",
    "    '''\n",
    "    def __init__(self):\n",
    "        self.__orderQueue = []\n",
    "\n",
    "    def placeOrder(self, order):\n",
    "        self.__orderQueue.append(order)\n",
    "        order.execute()\n",
    "        \n",
    "if __name__ == '__main__':\n",
    "    #Client\n",
    "    stock = StockTrade()\n",
    "    buyStock = BuyStockOrder(stock)\n",
    "    sellStock = SellStockOrder(stock)\n",
    "    #Invoker\n",
    "    agent = Agent()\n",
    "    agent.placeOrder(buyStock)\n",
    "    agent.placeOrder(sellStock)"
   ]
  }
 ],
 "metadata": {
  "kernelspec": {
   "display_name": "Python 2",
   "language": "python",
   "name": "python2"
  },
  "language_info": {
   "codemirror_mode": {
    "name": "ipython",
    "version": 2
   },
   "file_extension": ".py",
   "mimetype": "text/x-python",
   "name": "python",
   "nbconvert_exporter": "python",
   "pygments_lexer": "ipython2",
   "version": "2.7.13"
  }
 },
 "nbformat": 4,
 "nbformat_minor": 2
}
