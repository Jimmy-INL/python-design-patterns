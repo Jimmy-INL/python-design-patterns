{
 "cells": [
  {
   "cell_type": "markdown",
   "metadata": {
    "collapsed": true
   },
   "source": [
    "# Facade Pattern"
   ]
  },
  {
   "cell_type": "markdown",
   "metadata": {
    "collapsed": true
   },
   "source": [
    "Facade is a type of structural design pattern i.e. it is concerned with how objects and classes can be combined \n",
    "together. Structural patterns are design patterns that ease the design by identifying simpler ways to demostrate \n",
    "relationship between entities.  \n",
    "Facade hides the complexities of the internal system and provides an interface to the client that can access the \n",
    "system in a very simplified way. \n",
    "\n",
    "Facade: It wraps the complex group of subsystems and provides a pleasing look to the outside world.\n",
    "    \n",
    "System: This represents varied subsystems that makes whole system compound or difficult to work with.\n",
    "    \n",
    "Client: Client interacts with the facade so that it can communicate with the subsystem and get the work done."
   ]
  },
  {
   "cell_type": "markdown",
   "metadata": {
    "collapsed": true
   },
   "source": [
    "Example:\n",
    "    Consider that you have a marriage in your family and you are in charge of all the arrangements. Whoa! \n",
    "    That is a tough job on your hands. You have to book a hotel or place for marriage, caterer, decoration and music\n",
    "    arrangement etc. But now you can directory contact an event manager who will do all this for you. "
   ]
  },
  {
   "cell_type": "code",
   "execution_count": 3,
   "metadata": {
    "collapsed": false
   },
   "outputs": [
    {
     "name": "stdout",
     "output_type": "stream",
     "text": [
      "You:: Whoa! Marriage Arrangements??!!!\n",
      "You:: Let's Contact the Event Manager\n",
      "\n",
      "\n",
      "Event Manager:: Let me talk to the folks\n",
      "\n",
      "Arranging the Hotel for Marriage? --\n",
      "Is the Hotel free for the event on given day?\n",
      "Registered the Booking\n",
      "\n",
      "\n",
      "Flower Decorations for the Event? --\n",
      "Carnations, Roses and Lilies would be used for Decorations\n",
      "\n",
      "\n",
      "Food Arrangements for the Event --\n",
      "Chinese & Continental Cuisine to be served\n",
      "\n",
      "\n",
      "Musical Arrangements for the Marriage --\n",
      "Jazz and Classical will be played\n",
      "\n",
      "\n"
     ]
    }
   ],
   "source": [
    "class EventManager():\n",
    "    def __init__(self):\n",
    "         print(\"Event Manager:: Let me talk to the folks\\n\")\n",
    "    \n",
    "    def arrange(self):\n",
    "        self.hotelier = Hotelier()\n",
    "        self.hotelier.bookHotel()\n",
    "        \n",
    "        self.florist = Florist()\n",
    "        self.florist.setFlowerRequirements()\n",
    "        \n",
    "        self.caterer = Caterer()\n",
    "        self.caterer.setCuisine()\n",
    "        \n",
    "        self.musician = Musician()\n",
    "        self.musician.setMusicType()\n",
    "        \n",
    "class Hotelier(object):\n",
    "    def __init__(self):\n",
    "        print(\"Arranging the Hotel for Marriage? --\")\n",
    "\n",
    "    def __isAvailable(self):\n",
    "        print(\"Is the Hotel free for the event on given day?\")\n",
    "        return True\n",
    "    \n",
    "    def bookHotel(self):\n",
    "        if self.__isAvailable():\n",
    "            print(\"Registered the Booking\\n\\n\")\n",
    "            \n",
    "class Florist(object):\n",
    "    def __init__(self):\n",
    "        print(\"Flower Decorations for the Event? --\")\n",
    "        \n",
    "    def setFlowerRequirements(self):\n",
    "        print(\"Carnations, Roses and Lilies would be used for Decorations\\n\\n\")\n",
    "        \n",
    "class Caterer(object):\n",
    "    def __init__(self):\n",
    "        print(\"Food Arrangements for the Event --\")\n",
    "        \n",
    "    def setCuisine(self):\n",
    "        print(\"Chinese & Continental Cuisine to be served\\n\\n\")\n",
    "\n",
    "class Musician(object):\n",
    "    def __init__(self):\n",
    "        print(\"Musical Arrangements for the Marriage --\")\n",
    "    def setMusicType(self):\n",
    "        print(\"Jazz and Classical will be played\\n\\n\")\n",
    "\n",
    "class You(object):\n",
    "    def __init__(self):\n",
    "        print(\"You:: Whoa! Marriage Arrangements??!!!\")\n",
    "    \n",
    "    def askEventManager(self):\n",
    "        print(\"You:: Let's Contact the Event Manager\\n\\n\")\n",
    "        em = EventManager()\n",
    "        em.arrange()\n",
    "    \n",
    "    def __del__(self):\n",
    "        print(\"You:: Thanks to Event Manager, all preparations done! Phew!\")\n",
    "\n",
    "you = You()\n",
    "you.askEventManager()"
   ]
  }
 ],
 "metadata": {
  "kernelspec": {
   "display_name": "Python 2",
   "language": "python",
   "name": "python2"
  },
  "language_info": {
   "codemirror_mode": {
    "name": "ipython",
    "version": 2
   },
   "file_extension": ".py",
   "mimetype": "text/x-python",
   "name": "python",
   "nbconvert_exporter": "python",
   "pygments_lexer": "ipython2",
   "version": "2.7.13"
  }
 },
 "nbformat": 4,
 "nbformat_minor": 2
}
