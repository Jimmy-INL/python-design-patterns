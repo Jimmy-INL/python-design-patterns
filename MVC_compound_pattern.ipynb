{
 "cells": [
  {
   "cell_type": "markdown",
   "metadata": {},
   "source": [
    "# Model-View-Controller Compound Patterns"
   ]
  },
  {
   "cell_type": "markdown",
   "metadata": {},
   "source": [
    "MVC is a software pattern to implement user interfaces and an architecture that can be easily modified and maintained. This is how the MVC pattern works: the model represents the data and business logic (how information is stored \n",
    "and queried), view is nothing but the representation (how it is presented) of the data, and controller is the glue \n",
    "between the two, the one that directs the model and view to behave in a certain way based on what a user needs."
   ]
  }
 ],
 "metadata": {
  "kernelspec": {
   "display_name": "Python 2",
   "language": "python",
   "name": "python2"
  },
  "language_info": {
   "codemirror_mode": {
    "name": "ipython",
    "version": 2
   },
   "file_extension": ".py",
   "mimetype": "text/x-python",
   "name": "python",
   "nbconvert_exporter": "python",
   "pygments_lexer": "ipython2",
   "version": "2.7.13"
  }
 },
 "nbformat": 4,
 "nbformat_minor": 2
}
