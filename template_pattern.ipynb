{
 "cells": [
  {
   "cell_type": "markdown",
   "metadata": {},
   "source": [
    "# Template Pattern"
   ]
  },
  {
   "cell_type": "markdown",
   "metadata": {},
   "source": [
    "Template pattern is also a type of behavioral pattern which means it focuses on the responsibilities an object has. \n",
    "Template pattern defines the program skeleton or the algorithm in a method called the Template method. The template method pattern also helps and redefine or customize certain steps of algorithm by deferring the implementation of some \n",
    "of the steps to subclasses. \n",
    "\n",
    "It provides the following benefits:\n",
    "1. Defining a skeleton of anb algorithm with primitive operations.\n",
    "2. Redefining certain operations of the subclass without changing the algorithm's structure\n",
    "3. Achieving code reuse and avoiding duplicate efforts\n",
    "4. Leveraging common interfaces or implementations. "
   ]
  },
  {
   "cell_type": "code",
   "execution_count": 1,
   "metadata": {
    "collapsed": false
   },
   "outputs": [
    {
     "name": "stdout",
     "output_type": "stream",
     "text": [
      "Collecting Swift Source code\n",
      "Compiling Swift code to LLVM bitcode\n",
      "Program running on runtime environment\n"
     ]
    }
   ],
   "source": [
    "from abc import ABCMeta, abstractmethod\n",
    "\n",
    "class Compiler(object):\n",
    "    ''' Abstract class declaring an interface to define the steps of an algorithm'''\n",
    "    __metaclass__=ABCMeta\n",
    "\n",
    "    @abstractmethod\n",
    "    def collectSource(self):\n",
    "        pass\n",
    "    \n",
    "    @abstractmethod\n",
    "    def compileToObject(self):\n",
    "        pass\n",
    "    \n",
    "    @abstractmethod\n",
    "    def run(self):\n",
    "        pass\n",
    "    \n",
    "    def compileAndRun(self):\n",
    "        ''' Template method which defines the algorithm by calling the step methods'''\n",
    "        self.collectSource()\n",
    "        self.compileToObject()\n",
    "        self.run()\n",
    "        \n",
    "class iOSCompiler(Compiler):\n",
    "    ''' ConcreteClass that defines subclass-specific step definitions'''\n",
    "    def collectSource(self):\n",
    "        print(\"Collecting Swift Source code\")\n",
    "        \n",
    "    def compileToObject(self):\n",
    "        print(\"Compiling Swift code to LLVM bitcode\")\n",
    "        \n",
    "    def run(self):\n",
    "        print(\"Program running on runtime environment\")\n",
    "        \n",
    "iOS = iOSCompiler()\n",
    "iOS.compileAndRun()"
   ]
  },
  {
   "cell_type": "code",
   "execution_count": 6,
   "metadata": {
    "collapsed": false
   },
   "outputs": [
    {
     "name": "stdout",
     "output_type": "stream",
     "text": [
      "What kind of place you'd like to go historical or to a beach?\"historical\"\n",
      "Take a boat and find your way in the Grand Canal\n",
      "Visit St Mark's Basilica in St Mark's Square\n",
      "Appreciate Doge's Palace\n",
      "Enjoy the food near the Rialto Bridge\n",
      "Get souvenirs for friends and get back\n"
     ]
    }
   ],
   "source": [
    "''' Template pattern to implement a travel agency. '''\n",
    "\n",
    "from abc import ABCMeta, abstractmethod\n",
    "\n",
    "class Trip(object):\n",
    "    __metaclass__ = ABCMeta\n",
    "    \n",
    "    @abstractmethod\n",
    "    def setTransport(self):\n",
    "        pass\n",
    "    \n",
    "    @abstractmethod\n",
    "    def day1(self):\n",
    "        pass\n",
    "    \n",
    "    @abstractmethod\n",
    "    def day2(self):\n",
    "        pass\n",
    "    \n",
    "    @abstractmethod\n",
    "    def day3(self):\n",
    "        pass\n",
    "    \n",
    "    @abstractmethod\n",
    "    def returnHome(self):\n",
    "        pass\n",
    "    \n",
    "    def itinerary(self):\n",
    "        self.setTransport()\n",
    "        self.day1()\n",
    "        self.day2()\n",
    "        self.day3()\n",
    "        self.returnHome()\n",
    "\n",
    "\n",
    "class VeniceTrip(Trip):\n",
    "    ''' ConcreteClass representing the trip to Venice'''\n",
    "\n",
    "    def setTransport(self):\n",
    "        print(\"Take a boat and find your way in the Grand Canal\")\n",
    "        \n",
    "    def day1(self):\n",
    "        print(\"Visit St Mark's Basilica in St Mark's Square\")\n",
    "        \n",
    "    def day2(self):\n",
    "        print(\"Appreciate Doge's Palace\")\n",
    "        \n",
    "    def day3(self):\n",
    "        print(\"Enjoy the food near the Rialto Bridge\")\n",
    "        \n",
    "    def returnHome(self):\n",
    "        print(\"Get souvenirs for friends and get back\")\n",
    "\n",
    "\n",
    "class MaldivesTrip(Trip):\n",
    "    ''' ConcreteClass representing the trip to Maldives'''\n",
    "\n",
    "    def setTransport(self):\n",
    "        print(\"On foot, on any island, Wow!\")\n",
    "    \n",
    "    def day1(self):\n",
    "        print(\"Enjoy the marine life of Banana Reef\")\n",
    "    \n",
    "    def day2(self):\n",
    "        print(\"Go for the water sports and snorkelling\")\n",
    "    \n",
    "    def day3(self):\n",
    "        print(\"Relax on the beach and enjoy the sun\")\n",
    "    \n",
    "    def returnHome(self):\n",
    "        print(\"Dont feel like leaving the beach..\")\n",
    "        \n",
    "class TravelAgency:\n",
    "    \n",
    "    def arrange_trip(self):\n",
    "        choice = input(\"What kind of place you'd like to go historical or to a beach?\")\n",
    "        \n",
    "        if choice == 'historical':\n",
    "            self.trip = VeniceTrip()\n",
    "            self.trip.itinerary()\n",
    "        \n",
    "        if choice == 'beach':\n",
    "            self.trip = MaldivesTrip()\n",
    "            self.trip.itinerary()\n",
    "        \n",
    "        \n",
    "TravelAgency().arrange_trip()\n"
   ]
  }
 ],
 "metadata": {
  "kernelspec": {
   "display_name": "Python 2",
   "language": "python",
   "name": "python2"
  },
  "language_info": {
   "codemirror_mode": {
    "name": "ipython",
    "version": 2
   },
   "file_extension": ".py",
   "mimetype": "text/x-python",
   "name": "python",
   "nbconvert_exporter": "python",
   "pygments_lexer": "ipython2",
   "version": "2.7.13"
  }
 },
 "nbformat": 4,
 "nbformat_minor": 2
}
