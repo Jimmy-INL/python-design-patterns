{
 "cells": [
  {
   "cell_type": "code",
   "execution_count": null,
   "metadata": {
    "collapsed": true
   },
   "outputs": [],
   "source": [
    "# Factory Pattern"
   ]
  },
  {
   "cell_type": "raw",
   "metadata": {},
   "source": [
    "Factory pattern is a creational pattern i.e. it is concerned with creation of objects. It means that a class is responsible for creating objects of other type. \n",
    "\n",
    "Some of the advantages of this pattern are:\n",
    "1. Loose coupling where object creation is independent of class implementation. \n",
    "2. Client do not need to know which class creates that object. It just needs to know the interfaces, parameters, methods etc. \n",
    "3. Adding another class to the factory to create objects of another type can be easily done without client changing the code. Client might need to pass different parameters though.\n",
    "4. Factory can resuse existing objects.\n",
    "5. Makes the code generic and not tied to certain class for instantiation. "
   ]
  },
  {
   "cell_type": "code",
   "execution_count": null,
   "metadata": {
    "collapsed": true
   },
   "outputs": [],
   "source": [
    "### Simple Factory Method"
   ]
  },
  {
   "cell_type": "code",
   "execution_count": 5,
   "metadata": {
    "collapsed": false
   },
   "outputs": [
    {
     "name": "stdout",
     "output_type": "stream",
     "text": [
      "Which animal you want to make sound Dog or Cat\"Cat\"\n",
      "<class '__main__.Cat'>\n",
      "Meaaaaauuuuuuuuu!\n"
     ]
    }
   ],
   "source": [
    "from abc import ABCMeta, abstractmethod\n",
    "\n",
    "class Animal():\n",
    "    __metaclass__=ABCMeta\n",
    "    @abstractmethod\n",
    "    def do_say(self):\n",
    "        pass\n",
    "    \n",
    "class Dog(Animal):\n",
    "    def do_say(self):\n",
    "        print (\"Bhow Bhow!\")\n",
    "    \n",
    "class Cat(Animal):\n",
    "    def do_say(self):\n",
    "        print (\"Meaaaaauuuuuuuuu!\")\n",
    "        \n",
    "class ForestFactory(object):\n",
    "    def make_sound(self, object_type):\n",
    "        return eval(object_type)().do_say()\n",
    "    \n",
    "if __name__ == \"__main__\":\n",
    "    ff = ForestFactory()\n",
    "    animal = input(\"Which animal you want to make sound Dog or Cat\")\n",
    "    ff.make_sound(animal)"
   ]
  },
  {
   "cell_type": "code",
   "execution_count": null,
   "metadata": {
    "collapsed": true
   },
   "outputs": [],
   "source": [
    "### Abstract Factory method"
   ]
  },
  {
   "cell_type": "code",
   "execution_count": 15,
   "metadata": {
    "collapsed": false
   },
   "outputs": [
    {
     "name": "stdout",
     "output_type": "stream",
     "text": [
      "('ChickenPizza', ' is served with Chicken on ', 'DeluxVeggiePizza')\n",
      "('Prepare ', 'DeluxVeggiePizza')\n",
      "('MexicanHamPizza', ' is served with Chicken on ', 'VeggiePizza')\n",
      "('Prepare ', 'VeggiePizza')\n"
     ]
    }
   ],
   "source": [
    "from abc import ABCMeta, abstractmethod\n",
    "\n",
    "class PizzaFactory(object):\n",
    "    __metaclass__ = ABCMeta\n",
    "    \n",
    "    @abstractmethod\n",
    "    def createVegPizza(self):\n",
    "        pass\n",
    "    \n",
    "    @abstractmethod\n",
    "    def createNonVegPizza(self):\n",
    "        pass\n",
    "    \n",
    "    \n",
    "class IndianPizzaFactory(PizzaFactory):\n",
    "    def createVegPizza(self):\n",
    "        return DeluxVeggiePizza()\n",
    "    \n",
    "    def createNonVegPizza(self):\n",
    "        return ChickenPizza()\n",
    "    \n",
    "class USPizzaFactory(PizzaFactory):\n",
    "    def createVegPizza(self):\n",
    "        return VeggiePizza()\n",
    "    \n",
    "    def createNonVegPizza(self):\n",
    "        return MexicanHamPizza()\n",
    "    \n",
    "\n",
    "class VegPizza(object):\n",
    "    __metaclass__ = ABCMeta\n",
    "    \n",
    "    @abstractmethod\n",
    "    def prepare(self, VegPizza):\n",
    "        pass\n",
    "    \n",
    "class NonVegPizza(object):\n",
    "    __metaclass__ = ABCMeta\n",
    "    \n",
    "    @abstractmethod\n",
    "    def serve(self, NonVegPizza):\n",
    "        pass\n",
    "\n",
    "class DeluxVeggiePizza(VegPizza):\n",
    "    def prepare(self):\n",
    "        print (\"Prepare \", type(self).__name__)\n",
    "        \n",
    "class ChickenPizza(NonVegPizza):\n",
    "    def serve(self, VegPizza):\n",
    "        print(type(self).__name__, \" is served with Chicken on \", type(VegPizza).__name__)\n",
    "        \n",
    "class VeggiePizza(VegPizza):\n",
    "     def prepare(self):\n",
    "        print (\"Prepare \", type(self).__name__)\n",
    "        \n",
    "class MexicanHamPizza(NonVegPizza):\n",
    "    def serve(self, VegPizza):\n",
    "        print(type(self).__name__, \" is served with Chicken on \", type(VegPizza).__name__)\n",
    "        \n",
    "class PizzaStore:\n",
    "    def __init__(self):\n",
    "        pass\n",
    "    \n",
    "    def make_pizza(self):\n",
    "        for factory in [IndianPizzaFactory(), USPizzaFactory()]:\n",
    "            self.factory = factory\n",
    "            self.nonVegPizza = self.factory.createNonVegPizza()\n",
    "            self.vegPizza = self.factory.createVegPizza()\n",
    "            self.nonVegPizza.serve(self.vegPizza)\n",
    "            self.vegPizza.prepare()\n",
    "            \n",
    "pizza = PizzaStore()\n",
    "pizza.make_pizza()"
   ]
  }
 ],
 "metadata": {
  "kernelspec": {
   "display_name": "Python 2",
   "language": "python",
   "name": "python2"
  },
  "language_info": {
   "codemirror_mode": {
    "name": "ipython",
    "version": 2
   },
   "file_extension": ".py",
   "mimetype": "text/x-python",
   "name": "python",
   "nbconvert_exporter": "python",
   "pygments_lexer": "ipython2",
   "version": "2.7.13"
  }
 },
 "nbformat": 4,
 "nbformat_minor": 2
}
