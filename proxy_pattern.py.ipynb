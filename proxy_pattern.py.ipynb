{
 "cells": [
  {
   "cell_type": "code",
   "execution_count": null,
   "metadata": {
    "collapsed": true
   },
   "outputs": [],
   "source": [
    "# Proxy Pattern"
   ]
  },
  {
   "cell_type": "code",
   "execution_count": null,
   "metadata": {
    "collapsed": true
   },
   "outputs": [],
   "source": [
    "Proxy pattern is a type of structural pattern i.e. it is concerned with how objects and classes can be \n",
    "combined together.Proxy is a system that intermediates between the seeker and the provider. Seeker is the one that \n",
    "makes the request and provider deliver the response to the request. \n",
    "\n",
    "It provides the following benefits:\n",
    "    * Represents the complex system in a simpler way. A system may involve complex calculations but it provides a \n",
    "    simple interface that can act as a proxy for the benefit of the client. \n",
    "    * It adds security to the existng real objects by not allowing clients to access the real object directly. \n",
    "    This may save the real objects from malicious activities. \n",
    "    * It provides local interface for remote objects on different servers. \n",
    "    * It provides a light handle for a higher memory-consuming object. "
   ]
  },
  {
   "cell_type": "code",
   "execution_count": 2,
   "metadata": {
    "collapsed": false
   },
   "outputs": [
    {
     "name": "stdout",
     "output_type": "stream",
     "text": [
      "('Actor', 'is available for the movie')\n"
     ]
    }
   ],
   "source": [
    "class Actor(object):\n",
    "    def __init__(self):\n",
    "        self.is_busy = False\n",
    "        \n",
    "    def occupied(self):\n",
    "        self.is_busy = True\n",
    "        print (type(self).__name__, \"is occupied with current movie\")\n",
    "        \n",
    "    def available(self):\n",
    "        self.is_busy = False\n",
    "        print (type(self).__name__, \"is available for the movie\")\n",
    "        \n",
    "    def get_status(self):\n",
    "        return self.is_busy\n",
    "    \n",
    "class Agent(object):\n",
    "    def __init__(self):\n",
    "        self.principal = None\n",
    "        \n",
    "    def work(self):\n",
    "        self.actor = Actor()\n",
    "        \n",
    "        if self.actor.get_status():\n",
    "            self.actor.occupied()\n",
    "        else:\n",
    "            self.actor.available()\n",
    "            \n",
    "if __name__==\"__main__\":\n",
    "    r = Agent()\n",
    "    r.work()"
   ]
  },
  {
   "cell_type": "markdown",
   "metadata": {},
   "source": [
    "### Different types of Proxies:\n",
    "\n",
    "1. `Virtual Proxy`: It acts as a placeholder for objects that are difficult to instantiate. for ex. when you want to \n",
    "    load a heavy image, we place a placeholder icon instead of loading the heavy image in memory. When the user \n",
    "    clicks on it, it will be loaded. \n",
    "    \n",
    "2. `Remote proxy`: It provides local representation of a real object that resides on a remote server or different \n",
    "    address  space. ex. when we build a monitoring system for a application that has multiple web servers, DB servers, \n",
    "    caching servers etc. If we want to monitor the CPU and disk utilization of these servers, we need to have an object \n",
    "    that is available in the context of where the monitoring application runs but can perform remote commands to get \n",
    "    the actual parameter values.\n",
    "    \n",
    "3. `Protective proxy`: This proxy controls access to the sensitive matter object of Real subject. ex. these days, web \n",
    "    applications have mutiple services that work together to provide functionality. Authentication service acts as a \n",
    "    protective proxy server that is responsible for authentication and authorization. \n",
    "    \n",
    "4. `Smart proxy`: Smart proxies interpose additional actions when an object is accessed. ex. consider when there's a\n",
    "    core component in the system taht stores states in a centralized location. Such component is called by different \n",
    "    services  to complete their tasks and there can be a problem of shared resources. Smart proxy is a built in which\n",
    "    checks if the real obejct is locked before it is accessed in order to ensure that no other object can change it.\n",
    "    "
   ]
  },
  {
   "cell_type": "code",
   "execution_count": 10,
   "metadata": {
    "collapsed": false
   },
   "outputs": [
    {
     "name": "stdout",
     "output_type": "stream",
     "text": [
      "You:: Let's buy the Denim shirt\n",
      "You:: I should earn more :(\n",
      "Proxy:: Punch in Card Number: 12334\n",
      "('Bank:: Checking if Account', 12334, 'has enough funds')\n",
      "Bank:: Paying the merchant\n"
     ]
    }
   ],
   "source": [
    "''' A program to explain proxy pattern in a real world'''\n",
    "\n",
    "class You:\n",
    "    ''' You represent a guy who goes to shopping mall to buy a denim shirt '''\n",
    "    \n",
    "    def __init__(self):\n",
    "        print (\"You:: Let's buy the Denim shirt\")\n",
    "        self.debit_card = DebitCard()\n",
    "        self.is_purchased = None\n",
    "        \n",
    "    def make_payment(self):\n",
    "        self.is_purchased = self.debit_card.do_pay()\n",
    "        \n",
    "    def __del__(self):\n",
    "        if self.is_purchased:\n",
    "            print(\"You:: Wow! Denim shirt is Mine :-)\")\n",
    "        else:\n",
    "            print(\"You:: I should earn more :(\")\n",
    "            \n",
    "\n",
    "from abc import ABCMeta, abstractmethod\n",
    "\n",
    "class Payment(object):\n",
    "    ''' Payment is a subject that is an interface that defines how the Proxy and RealSubject should look like.'''\n",
    "    __metaclass__ = ABCMeta\n",
    "    \n",
    "    @abstractmethod\n",
    "    def do_pay(self):\n",
    "        pass\n",
    "\n",
    "class Bank(Payment):\n",
    "    '''Bank here acts as the real subject which stores the funds and allow user to withdraw them'''\n",
    "\n",
    "    def __init__(self):\n",
    "        self.account = None\n",
    "        self.card = None\n",
    "        \n",
    "    def __getAccount(self):\n",
    "        self.account = self.card   # Assuming card number is the account number\n",
    "        \n",
    "        return self.account\n",
    "\n",
    "    def __hasFunds(self):\n",
    "        print(\"Bank:: Checking if Account\", self.__getAccount(), \"has enough funds\")\n",
    "        return True\n",
    "    \n",
    "    def setCard(self, card):\n",
    "        self.card = card\n",
    "\n",
    "    def do_pay(self):\n",
    "        if self.__hasFunds():\n",
    "            print(\"Bank:: Paying the merchant\")\n",
    "            return True\n",
    "        else:\n",
    "            print(\"Bank:: Sorry, not enough funds!\")\n",
    "            return False\n",
    "\n",
    "class DebitCard(Payment):\n",
    "    ''' DebitCard acts as a proxy class which acts as an interface between Bank and You class.\n",
    "        When You needs to withdraw money, instead of going to the bank, You uses debit card.\n",
    "    '''\n",
    "    \n",
    "    def __init__(self):\n",
    "        self.bank = Bank()\n",
    "        \n",
    "    def do_pay(self):\n",
    "        card = input(\"Proxy:: Punch in Card Number: \")\n",
    "        self.bank.setCard(card)\n",
    "        self.bank.do_pay()\n",
    "    \n",
    "you = You()\n",
    "you.make_payment()\n",
    "        "
   ]
  },
  {
   "cell_type": "code",
   "execution_count": null,
   "metadata": {
    "collapsed": true
   },
   "outputs": [],
   "source": [
    "Benefits of using Proxy Pattern:\n",
    "    * Helps in improving the performance by caching heavy objects or frequently accessed objects.\n",
    "    * Authorize the access to RealSubject which helps in delegation only if permission is right.\n",
    "    * Remote proxies facilitates interaction with remote servers. "
   ]
  }
 ],
 "metadata": {
  "kernelspec": {
   "display_name": "Python 2",
   "language": "python",
   "name": "python2"
  },
  "language_info": {
   "codemirror_mode": {
    "name": "ipython",
    "version": 2
   },
   "file_extension": ".py",
   "mimetype": "text/x-python",
   "name": "python",
   "nbconvert_exporter": "python",
   "pygments_lexer": "ipython2",
   "version": "2.7.13"
  }
 },
 "nbformat": 4,
 "nbformat_minor": 2
}
